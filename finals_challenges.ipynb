{
  "nbformat": 4,
  "nbformat_minor": 0,
  "metadata": {
    "colab": {
      "provenance": []
    },
    "kernelspec": {
      "name": "python3",
      "display_name": "Python 3"
    },
    "language_info": {
      "name": "python"
    }
  },
  "cells": [
    {
      "cell_type": "code",
      "source": [
        "#1 To check if a given string is a palindrome\n",
        "def is_palindrome(input_string):\n",
        "  stack = [] # we implement a stack using a list\n",
        "  for chr in input_string: #now we access each character from the string\n",
        "    if chr.isalpha(): #we check if the character is an alphabet\n",
        "      stack.append(chr.lower()) #and we append it to the stack we created above and convert the alphabets to lowercase\n",
        "  preprocessed_string = ''.join(stack) #we concatenate the characters after preprocessing\n",
        "  reversed_string = preprocessed_string[::-1] #here we reverse the string\n",
        "  palindrome_value = preprocessed_string == reversed_string #a boolean value to check if the initial preprocessed and reversed characters are the same\n",
        "  return palindrome_value\n"
      ],
      "metadata": {
        "id": "qX_hFs3ubosw"
      },
      "execution_count": null,
      "outputs": []
    },
    {
      "cell_type": "code",
      "source": [
        "test_cases=['racecar','hello','level','A man, a plan, a canal, Panama','Was it a car or a cat I saw?'] #for all the input test cases we creaated a list so we can go through all of them\n",
        "for test in test_cases:\n",
        "  print(is_palindrome(test))"
      ],
      "metadata": {
        "colab": {
          "base_uri": "https://localhost:8080/"
        },
        "id": "-PTwyKd8d516",
        "outputId": "d1b510e1-b360-45a9-9a14-db4704dde96f"
      },
      "execution_count": null,
      "outputs": [
        {
          "output_type": "stream",
          "name": "stdout",
          "text": [
            "True\n",
            "False\n",
            "True\n",
            "True\n",
            "True\n"
          ]
        }
      ]
    },
    {
      "cell_type": "code",
      "source": [
        "#2 Implementing a Queue with Stacks\n",
        "class QueueWithStacks: #create a data structure\n",
        "  def __init__(self):\n",
        "    self.stack_1 = [] #because we have enqueue and dequeue operations we would need two stacks to perform this\n",
        "    self.stack_2 = []\n",
        "\n",
        "  def enqueue(self,item):\n",
        "    self.stack_1.append(item) #enqueue is\n",
        "\n",
        "  def dequeue(self):\n",
        "    if not self.stack_2: #we check if stack 2 is empty\n",
        "      while self.stack_1:\n",
        "        self.stack_2.append(self.stack_1.pop()) # this makes sure we do it in the FIFO order\n",
        "    if not self.stack_2: #if stack is still empty this means the queue is empty\n",
        "      return None\n",
        "\n",
        "    return self.stack_2.pop()\n"
      ],
      "metadata": {
        "id": "uJkIWgKp0CPI"
      },
      "execution_count": null,
      "outputs": []
    },
    {
      "cell_type": "code",
      "source": [
        "queue = QueueWithStacks()\n",
        "\n",
        "queue.enqueue(5)\n",
        "queue.enqueue(10)\n",
        "queue.enqueue(15)\n",
        "print(queue.dequeue()) # Output: 5\n",
        "print(queue.dequeue()) # Output: 10\n",
        "\n",
        "queue3 = QueueWithStacks()\n",
        "test_case2 = [20,25,30,35]\n",
        "for test in test_case2:\n",
        "  queue3.enqueue(test)\n",
        "print(queue3.dequeue())\n",
        "print(queue3.dequeue())\n",
        "\n",
        "queue2 = QueueWithStacks()\n",
        "test_case3 = ['a', 'b', 'c', 'd', 'e']\n",
        "for test in test_case3:\n",
        "  queue2.enqueue(test)\n",
        "print(queue2.dequeue())\n",
        "print(queue2.dequeue())\n",
        "print(queue2.dequeue())"
      ],
      "metadata": {
        "colab": {
          "base_uri": "https://localhost:8080/"
        },
        "id": "0ePXfYyi4zwZ",
        "outputId": "ef728669-34b8-4564-b44b-b1d163e02254"
      },
      "execution_count": null,
      "outputs": [
        {
          "output_type": "stream",
          "name": "stdout",
          "text": [
            "5\n",
            "10\n",
            "20\n",
            "25\n",
            "a\n",
            "b\n",
            "c\n"
          ]
        }
      ]
    },
    {
      "cell_type": "code",
      "source": [
        "#3 word frequency counter\n",
        "def word_frequency_counter(input_text):\n",
        "  word_count = {}   #dictionary to store the key-value pairs\n",
        "  words = input_text.split()\n",
        "  words = [word.lower() for word in words] #convert the words to lowercase so we can count easily\n",
        "\n",
        "  for word in words:\n",
        "    if word not in word_count: # here we check if the word is already there in the dictionary\n",
        "       word_count[word] = 0 #if not we initialize the count\n",
        "    word_count[word] += 1 #if it is already there for every occurence we increment the count by 1\n",
        "\n",
        "  return word_count\n",
        "\n"
      ],
      "metadata": {
        "id": "poJt_fG6WoQZ"
      },
      "execution_count": null,
      "outputs": []
    },
    {
      "cell_type": "code",
      "source": [
        "test_input = 'Python is a powerful programming language. Python is used in various domains.'\n",
        "print(word_frequency_counter(test_input))"
      ],
      "metadata": {
        "colab": {
          "base_uri": "https://localhost:8080/"
        },
        "id": "Ozi1dnZxXn90",
        "outputId": "2103be44-a92e-4684-9bfc-4ad54f6d2115"
      },
      "execution_count": null,
      "outputs": [
        {
          "output_type": "stream",
          "name": "stdout",
          "text": [
            "{'python': 2, 'is': 2, 'a': 1, 'powerful': 1, 'programming': 1, 'language.': 1, 'used': 1, 'in': 1, 'various': 1, 'domains.': 1}\n"
          ]
        }
      ]
    },
    {
      "cell_type": "code",
      "source": [
        "#4Balanced parentheses checker\n",
        "def is_balanced_parentheses(input_string):\n",
        "  stack = []\n",
        "  parentheses_dict = {')':'(','{':'}',']':'['} #this is the dictionary that has both brackets of balancing\n",
        "  for character in input_string: #we access characters from the string inputs\n",
        "    if character in parentheses_dict.values(): #we check if that specififc character is in the values of the dictionary\n",
        "      stack.append(character) #we add that character to the stack if it is in the dictionary\n",
        "    elif character in parentheses_dict.keys(): # else we check for in the keys\n",
        "      if not stack or stack.pop() != parentheses_dict[character]: # here the popped element from the brackets, we check if does not match the parentheses. If it does not it it is not balancedd\n",
        "        return False\n",
        "  return not stack"
      ],
      "metadata": {
        "id": "erxfvUMtMU0s"
      },
      "execution_count": null,
      "outputs": []
    },
    {
      "cell_type": "code",
      "source": [
        "test_cases4 = ['((()))()','((())','()()()()']\n",
        "for test in test_cases4:\n",
        "  print(f'input: {test}')\n",
        "  print(f'output: {is_balanced_parentheses(test)}')"
      ],
      "metadata": {
        "colab": {
          "base_uri": "https://localhost:8080/"
        },
        "id": "VOMID5KWeVSJ",
        "outputId": "b07739bc-59e5-43ac-cb38-bd8d92d007dc"
      },
      "execution_count": null,
      "outputs": [
        {
          "output_type": "stream",
          "name": "stdout",
          "text": [
            "input: ((()))()\n",
            "output: True\n",
            "input: ((())\n",
            "output: False\n",
            "input: ()()()()\n",
            "output: True\n"
          ]
        }
      ]
    },
    {
      "cell_type": "code",
      "source": [
        "#5 Binary search tree operations\n",
        "class Node:\n",
        "    def __init__(self, value):\n",
        "        self.value = value\n",
        "        self.left = None\n",
        "        self.right = None\n",
        "\n",
        "class BinarySearchTree:\n",
        "    def __init__(self):\n",
        "        self.root = None\n",
        "\n",
        "    def insert(self, value):\n",
        "        self.root = self._insert(self.root, value)\n",
        "\n",
        "    def _insert(self, root, value):\n",
        "        if root is None:\n",
        "            return Node(value)  #we create a new node with the given value if the current node is None\n",
        "        if value < root.value: #if the value of the current node is is less than the root value\n",
        "            root.left = self._insert(root.left, value)  #recursively insert into the left subtree\n",
        "        elif value > root.value: # if the value of th ecurrent node is more than the root node value, it is a right node\n",
        "            root.right = self._insert(root.right, value)  #recursively insert into the right subtree\n",
        "        return root\n",
        "\n",
        "    def delete(self, value):\n",
        "        self.root = self._delete(self.root, value)\n",
        "\n",
        "    def _delete(self, root, value):\n",
        "        if root is None:\n",
        "            return root  #if the tree is empty or the value is not found, return the current node\n",
        "\n",
        "        if value < root.value:\n",
        "            root.left = self._delete(root.left, value)  #recursively delete from the left subtree\n",
        "        elif value > root.value:\n",
        "            root.right = self._delete(root.right, value)  #recursively delete from the right subtree\n",
        "        else:\n",
        "            if root.left is None:\n",
        "                return root.right  #replace the node to be deleted with its right subtree\n",
        "            elif root.right is None:\n",
        "                return root.left  #replace the node to be deleted with its left subtree\n",
        "            root.value = self._find_min_value(root.right)  # Replace the node with the minimum value from its right subtree\n",
        "            root.right = self._delete(root.right, root.value)  # Delete the minimum value node from the right subtree\n",
        "\n",
        "        return root\n",
        "\n",
        "    def _find_min_value(self, root):\n",
        "        current = root\n",
        "        while current.left is not None:\n",
        "            current = current.left\n",
        "        return current.value  # Find and return the minimum value in a given subtree\n",
        "\n",
        "    def search(self, value):\n",
        "        return self._search(self.root, value)\n",
        "\n",
        "    def _search(self, root, value):\n",
        "        if root is None or root.value == value:\n",
        "            return root is not None  # Return True if the value is found in the tree, otherwise return False\n",
        "        if value < root.value:\n",
        "            return self._search(root.left, value)  # Recursively search the left subtree\n",
        "        return self._search(root.right, value)  # Recursively search the right subtree\n",
        "\n",
        "\n",
        "# Example Usage:\n",
        "bst = BinarySearchTree()\n",
        "\n",
        "# Insert values into the binary search tree\n",
        "bst.insert(10)\n",
        "bst.insert(5)\n",
        "bst.insert(15)\n",
        "bst.insert(3)\n",
        "bst.insert(7)\n",
        "bst.insert(12)\n",
        "bst.insert(18)\n",
        "\n",
        "# Search for values in the binary search tree\n",
        "print(bst.search(7))   # Output: True\n",
        "print(bst.search(11))  # Output: False\n",
        "\n",
        "# Delete a value from the binary search tree\n",
        "bst.delete(15)\n",
        "print(bst.search(15))  # Output: False\n"
      ],
      "metadata": {
        "colab": {
          "base_uri": "https://localhost:8080/"
        },
        "id": "TSsgUrRqfQxv",
        "outputId": "2b21fe9a-6d7f-497c-8df8-b20feaa388c9"
      },
      "execution_count": null,
      "outputs": [
        {
          "output_type": "stream",
          "name": "stdout",
          "text": [
            "True\n",
            "False\n",
            "False\n"
          ]
        }
      ]
    },
    {
      "cell_type": "code",
      "source": [
        "#6 Implement BFS and DFS for traversing a graph\n",
        "from collections import defaultdict, deque\n",
        "\n",
        "class Graph:\n",
        "    def __init__(self):\n",
        "        self.graph = defaultdict(list)  # Initialize an empty defaultdict to represent an adjacency list\n",
        "\n",
        "    def add_edge(self, u, v):\n",
        "        self.graph[u].append(v)  # Add an edge from node u to node v\n",
        "        self.graph[v].append(u)  # Assuming an undirected graph, add an edge from node v to node u\n",
        "\n",
        "    def dfs(self, start):\n",
        "        visited = set()  #set to keep track of visited nodes\n",
        "        self._dfs(start, visited)  # '_dfs' is the private helper function to perform depth-first search\n",
        "\n",
        "    def _dfs(self, node, visited):\n",
        "        if node not in visited:\n",
        "            print(node, end=' ')  # prints the current node if it has not been visited\n",
        "            visited.add(node)  #then we add the node to 'visited'\n",
        "            for neighbor in self.graph[node]:\n",
        "                self._dfs(neighbor, visited)  #recursively call '_dfs' for each unvisited neighbor\n",
        "\n",
        "    def bfs(self, start):\n",
        "        visited = set()  #set to keep track of visited nodes\n",
        "        queue = deque([start])  #this is a deque with the starting node\n",
        "\n",
        "        while queue:\n",
        "            node = queue.popleft()  #pop the leftmost node from the deque\n",
        "            if node not in visited:\n",
        "                print(node, end=' ')  #prints the current node if it has not been visited\n",
        "                visited.add(node)  #here we add the current node to 'visited'\n",
        "                queue.extend(neighbor for neighbor in self.graph[node] if neighbor not in visited)\n",
        "                # Add unvisited neighbors of the current node to the deque\n",
        "\n",
        "# Example Usage:\n",
        "g = Graph()\n",
        "g.add_edge(0, 1)\n",
        "g.add_edge(0, 2)\n",
        "g.add_edge(1, 2)\n",
        "g.add_edge(2, 0)\n",
        "g.add_edge(2, 3)\n",
        "g.add_edge(3, 3)\n",
        "\n",
        "print(\"DFS traversal:\")\n",
        "g.dfs(2)\n",
        "print(\"\\nBFS traversal:\")\n",
        "g.bfs(2)\n"
      ],
      "metadata": {
        "colab": {
          "base_uri": "https://localhost:8080/"
        },
        "id": "cWdzGTjpCBEe",
        "outputId": "7af42c09-6e04-4110-f1d7-b76cebaef472"
      },
      "execution_count": null,
      "outputs": [
        {
          "output_type": "stream",
          "name": "stdout",
          "text": [
            "DFS traversal:\n",
            "2 0 1 3 \n",
            "BFS traversal:\n",
            "2 0 1 3 "
          ]
        }
      ]
    },
    {
      "cell_type": "code",
      "source": [
        "#7 Finding Duplicates\n",
        "def find_duplicates(arr):\n",
        "    seen = set()        #elements seen\n",
        "    duplicates = set()  #set to store duplicate elements\n",
        "\n",
        "    for element in arr:  #we go through the array here\n",
        "        if element in seen:  # here we check if the element is seen before\n",
        "            duplicates.add(element)  #an element seen before will be added to the 'duplicates' set here\n",
        "        else:\n",
        "            seen.add(element)  # If not seen before we add it to 'seen' for its first occurence\n",
        "\n",
        "    return duplicates  # Return the set of duplicate elements found in the array\n",
        "\n",
        "\n",
        "# Example Usage:\n",
        "arr_1 = [1, 2, 3, 4, 4, 2, 5, 6, 3]\n",
        "arr_2 = ['a', 'b', 'c', 'b', 'd', 'e', 'a']\n",
        "\n",
        "result_1 = find_duplicates(arr_1)\n",
        "result_2 = find_duplicates(arr_2)\n",
        "\n",
        "print(result_1)  # Output: {2, 3, 4}\n",
        "print(result_2)  # Output: {'b', 'a'}\n",
        "\n",
        "# Test Cases:\n",
        "test_case_1 = [1, 1, 2, 2, 3, 3, 4, 4, 5, 5]\n",
        "test_case_2 = ['x', 'y', 'z', 'x', 'y', 'x', 'z']\n",
        "test_case_3 = [1, 2, 3, 4, 5]\n",
        "\n",
        "print(find_duplicates(test_case_1))  # Expected Output: {1, 2, 3, 4, 5}\n",
        "print(find_duplicates(test_case_2))  # Expected Output: {'x', 'y', 'z'}\n",
        "print(find_duplicates(test_case_3))  # Expected Output: set()\n"
      ],
      "metadata": {
        "colab": {
          "base_uri": "https://localhost:8080/"
        },
        "id": "LaSRZVewD0E4",
        "outputId": "f507fc33-751b-40b6-d606-5cce10892a71"
      },
      "execution_count": null,
      "outputs": [
        {
          "output_type": "stream",
          "name": "stdout",
          "text": [
            "{2, 3, 4}\n",
            "{'b', 'a'}\n",
            "{1, 2, 3, 4, 5}\n",
            "{'y', 'x', 'z'}\n",
            "set()\n"
          ]
        }
      ]
    },
    {
      "cell_type": "code",
      "source": [
        "#8 reverse a linked list\n",
        "class Node:\n",
        "    def __init__(self, value):\n",
        "        self.value = value\n",
        "        self.next = None\n",
        "\n",
        "def reverse_linked_list(head):\n",
        "    # Initialize pointers\n",
        "    prev = None        # Pointer to the previous node which is initialized to None for the first node\n",
        "    current = head     # Pointer to the current node starting from the head of the original list\n",
        "    next_node = None   # Pointer to the next node initially None\n",
        "\n",
        "    # Traverse through the linked list\n",
        "    while current:\n",
        "        next_node = current.next  # Save the next node\n",
        "        current.next = prev # Reverse the link: current node points to the previous node\n",
        "        prev = current # Move to the next nodes\n",
        "        current = next_node\n",
        "    return prev # The new head is the last node (prev)\n",
        "\n",
        "head1 = Node(1)\n",
        "head1.next = Node(2)\n",
        "head1.next.next = Node(3)\n",
        "head1.next.next.next = Node(4)\n",
        "head1.next.next.next.next = Node(5)\n",
        "\n",
        "reversed_head1 = reverse_linked_list(head1)\n",
        "while reversed_head1:\n",
        "    print(reversed_head1.value, end=\" -> \")\n",
        "    reversed_head1 = reversed_head1.next\n"
      ],
      "metadata": {
        "id": "zdAColj4EM6B",
        "colab": {
          "base_uri": "https://localhost:8080/"
        },
        "outputId": "83dc4746-16d1-4b92-cde0-0e752c797e2f"
      },
      "execution_count": 1,
      "outputs": [
        {
          "output_type": "stream",
          "name": "stdout",
          "text": [
            "5 -> 4 -> 3 -> 2 -> 1 -> "
          ]
        }
      ]
    }
  ]
}